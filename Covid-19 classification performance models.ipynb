{
 "cells": [
  {
   "cell_type": "markdown",
   "metadata": {},
   "source": [
    "## 1 Data Preprocessing"
   ]
  },
  {
   "cell_type": "code",
   "execution_count": 1,
   "metadata": {},
   "outputs": [],
   "source": [
    "#Importing libraries\n",
    "import pandas as pd\n",
    "import numpy as np\n",
    "from sklearn.model_selection import train_test_split\n",
    "import seaborn as sns \n",
    "import matplotlib.pyplot as plt \n",
    "sns.set(color_codes=True) #seaborn theme colour variations \n",
    "import sklearn\n",
    "from sklearn import preprocessing\n",
    "from sklearn.model_selection import train_test_split\n",
    "from numpy import array\n",
    "from pandas.plotting import scatter_matrix"
   ]
  },
  {
   "cell_type": "code",
   "execution_count": 2,
   "metadata": {
    "scrolled": true
   },
   "outputs": [
    {
     "data": {
      "text/html": [
       "<div>\n",
       "<style scoped>\n",
       "    .dataframe tbody tr th:only-of-type {\n",
       "        vertical-align: middle;\n",
       "    }\n",
       "\n",
       "    .dataframe tbody tr th {\n",
       "        vertical-align: top;\n",
       "    }\n",
       "\n",
       "    .dataframe thead th {\n",
       "        text-align: right;\n",
       "    }\n",
       "</style>\n",
       "<table border=\"1\" class=\"dataframe\">\n",
       "  <thead>\n",
       "    <tr style=\"text-align: right;\">\n",
       "      <th></th>\n",
       "      <th>id</th>\n",
       "      <th>Archieve Date</th>\n",
       "      <th>ID_Registration</th>\n",
       "      <th>Hospital location</th>\n",
       "      <th>Patient residence</th>\n",
       "      <th>covid_test_result</th>\n",
       "      <th>delay</th>\n",
       "      <th>region residence</th>\n",
       "      <th>States</th>\n",
       "      <th>State Abreviation</th>\n",
       "      <th>...</th>\n",
       "      <th>Hypertension</th>\n",
       "      <th>Other diseases</th>\n",
       "      <th>Cardiovascular</th>\n",
       "      <th>Obesity</th>\n",
       "      <th>Chronic kidney</th>\n",
       "      <th>Smoking addiction</th>\n",
       "      <th>Another case</th>\n",
       "      <th>Migrant</th>\n",
       "      <th>Country of origin</th>\n",
       "      <th>ICU</th>\n",
       "    </tr>\n",
       "  </thead>\n",
       "  <tbody>\n",
       "    <tr>\n",
       "      <th>0</th>\n",
       "      <td>9269</td>\n",
       "      <td>12/04/2020</td>\n",
       "      <td>00011f</td>\n",
       "      <td>25</td>\n",
       "      <td>25</td>\n",
       "      <td>2</td>\n",
       "      <td>0</td>\n",
       "      <td>25</td>\n",
       "      <td>Sinaloa</td>\n",
       "      <td>SL</td>\n",
       "      <td>...</td>\n",
       "      <td>1</td>\n",
       "      <td>2</td>\n",
       "      <td>2</td>\n",
       "      <td>1</td>\n",
       "      <td>2</td>\n",
       "      <td>2</td>\n",
       "      <td>2</td>\n",
       "      <td>99</td>\n",
       "      <td>97</td>\n",
       "      <td>97</td>\n",
       "    </tr>\n",
       "    <tr>\n",
       "      <th>1</th>\n",
       "      <td>33333</td>\n",
       "      <td>12/04/2020</td>\n",
       "      <td>00014e</td>\n",
       "      <td>14</td>\n",
       "      <td>14</td>\n",
       "      <td>2</td>\n",
       "      <td>0</td>\n",
       "      <td>14</td>\n",
       "      <td>Jalisco</td>\n",
       "      <td>JC</td>\n",
       "      <td>...</td>\n",
       "      <td>1</td>\n",
       "      <td>2</td>\n",
       "      <td>2</td>\n",
       "      <td>1</td>\n",
       "      <td>2</td>\n",
       "      <td>1</td>\n",
       "      <td>99</td>\n",
       "      <td>99</td>\n",
       "      <td>97</td>\n",
       "      <td>2</td>\n",
       "    </tr>\n",
       "    <tr>\n",
       "      <th>2</th>\n",
       "      <td>35483</td>\n",
       "      <td>12/04/2020</td>\n",
       "      <td>153</td>\n",
       "      <td>8</td>\n",
       "      <td>8</td>\n",
       "      <td>1</td>\n",
       "      <td>0</td>\n",
       "      <td>8</td>\n",
       "      <td>Chihuahua</td>\n",
       "      <td>CH</td>\n",
       "      <td>...</td>\n",
       "      <td>2</td>\n",
       "      <td>2</td>\n",
       "      <td>2</td>\n",
       "      <td>2</td>\n",
       "      <td>2</td>\n",
       "      <td>2</td>\n",
       "      <td>99</td>\n",
       "      <td>99</td>\n",
       "      <td>97</td>\n",
       "      <td>2</td>\n",
       "    </tr>\n",
       "    <tr>\n",
       "      <th>3</th>\n",
       "      <td>7062</td>\n",
       "      <td>12/04/2020</td>\n",
       "      <td>0001b6</td>\n",
       "      <td>9</td>\n",
       "      <td>15</td>\n",
       "      <td>1</td>\n",
       "      <td>0</td>\n",
       "      <td>9</td>\n",
       "      <td>Ciudad de Mexico</td>\n",
       "      <td>DF</td>\n",
       "      <td>...</td>\n",
       "      <td>2</td>\n",
       "      <td>2</td>\n",
       "      <td>2</td>\n",
       "      <td>1</td>\n",
       "      <td>2</td>\n",
       "      <td>2</td>\n",
       "      <td>99</td>\n",
       "      <td>99</td>\n",
       "      <td>97</td>\n",
       "      <td>97</td>\n",
       "    </tr>\n",
       "    <tr>\n",
       "      <th>4</th>\n",
       "      <td>23745</td>\n",
       "      <td>12/04/2020</td>\n",
       "      <td>0001c1</td>\n",
       "      <td>9</td>\n",
       "      <td>9</td>\n",
       "      <td>2</td>\n",
       "      <td>0</td>\n",
       "      <td>9</td>\n",
       "      <td>Ciudad de Mexico</td>\n",
       "      <td>DF</td>\n",
       "      <td>...</td>\n",
       "      <td>2</td>\n",
       "      <td>2</td>\n",
       "      <td>2</td>\n",
       "      <td>2</td>\n",
       "      <td>2</td>\n",
       "      <td>2</td>\n",
       "      <td>99</td>\n",
       "      <td>99</td>\n",
       "      <td>97</td>\n",
       "      <td>97</td>\n",
       "    </tr>\n",
       "  </tbody>\n",
       "</table>\n",
       "<p>5 rows × 40 columns</p>\n",
       "</div>"
      ],
      "text/plain": [
       "      id Archieve Date ID_Registration  Hospital location  Patient residence  \\\n",
       "0   9269    12/04/2020          00011f                 25                 25   \n",
       "1  33333    12/04/2020          00014e                 14                 14   \n",
       "2  35483    12/04/2020             153                  8                  8   \n",
       "3   7062    12/04/2020          0001b6                  9                 15   \n",
       "4  23745    12/04/2020          0001c1                  9                  9   \n",
       "\n",
       "   covid_test_result  delay  region residence            States  \\\n",
       "0                  2      0                25           Sinaloa   \n",
       "1                  2      0                14           Jalisco   \n",
       "2                  1      0                 8         Chihuahua   \n",
       "3                  1      0                 9  Ciudad de Mexico   \n",
       "4                  2      0                 9  Ciudad de Mexico   \n",
       "\n",
       "  State Abreviation  ... Hypertension  Other diseases  Cardiovascular  \\\n",
       "0                SL  ...            1               2               2   \n",
       "1                JC  ...            1               2               2   \n",
       "2                CH  ...            2               2               2   \n",
       "3                DF  ...            2               2               2   \n",
       "4                DF  ...            2               2               2   \n",
       "\n",
       "   Obesity  Chronic kidney  Smoking addiction  Another case Migrant  \\\n",
       "0        1               2                  2             2      99   \n",
       "1        1               2                  1            99      99   \n",
       "2        2               2                  2            99      99   \n",
       "3        1               2                  2            99      99   \n",
       "4        2               2                  2            99      99   \n",
       "\n",
       "  Country of origin ICU  \n",
       "0                97  97  \n",
       "1                97   2  \n",
       "2                97   2  \n",
       "3                97  97  \n",
       "4                97  97  \n",
       "\n",
       "[5 rows x 40 columns]"
      ]
     },
     "execution_count": 2,
     "metadata": {},
     "output_type": "execute_result"
    }
   ],
   "source": [
    "#Loading dataset and displaying the first 5 rows of the entire data.\n",
    "df=pd.read_csv('covid_results.csv')\n",
    "df.head()"
   ]
  },
  {
   "cell_type": "code",
   "execution_count": 3,
   "metadata": {
    "scrolled": true
   },
   "outputs": [
    {
     "data": {
      "text/html": [
       "<div>\n",
       "<style scoped>\n",
       "    .dataframe tbody tr th:only-of-type {\n",
       "        vertical-align: middle;\n",
       "    }\n",
       "\n",
       "    .dataframe tbody tr th {\n",
       "        vertical-align: top;\n",
       "    }\n",
       "\n",
       "    .dataframe thead th {\n",
       "        text-align: right;\n",
       "    }\n",
       "</style>\n",
       "<table border=\"1\" class=\"dataframe\">\n",
       "  <thead>\n",
       "    <tr style=\"text-align: right;\">\n",
       "      <th></th>\n",
       "      <th>id</th>\n",
       "      <th>Archieve Date</th>\n",
       "      <th>ID_Registration</th>\n",
       "      <th>Hospital location</th>\n",
       "      <th>Patient residence</th>\n",
       "      <th>covid_test_result</th>\n",
       "      <th>delay</th>\n",
       "      <th>region residence</th>\n",
       "      <th>States</th>\n",
       "      <th>State Abreviation</th>\n",
       "      <th>...</th>\n",
       "      <th>Asthma</th>\n",
       "      <th>immunosuppressed</th>\n",
       "      <th>Hypertension</th>\n",
       "      <th>Other diseases</th>\n",
       "      <th>Cardiovascular</th>\n",
       "      <th>Obesity</th>\n",
       "      <th>Chronic kidney</th>\n",
       "      <th>Smoking addiction</th>\n",
       "      <th>Country of origin</th>\n",
       "      <th>ICU</th>\n",
       "    </tr>\n",
       "  </thead>\n",
       "  <tbody>\n",
       "    <tr>\n",
       "      <th>0</th>\n",
       "      <td>9269</td>\n",
       "      <td>12/04/2020</td>\n",
       "      <td>00011f</td>\n",
       "      <td>25</td>\n",
       "      <td>25</td>\n",
       "      <td>2</td>\n",
       "      <td>0</td>\n",
       "      <td>25</td>\n",
       "      <td>Sinaloa</td>\n",
       "      <td>SL</td>\n",
       "      <td>...</td>\n",
       "      <td>2</td>\n",
       "      <td>2</td>\n",
       "      <td>1</td>\n",
       "      <td>2</td>\n",
       "      <td>2</td>\n",
       "      <td>1</td>\n",
       "      <td>2</td>\n",
       "      <td>2</td>\n",
       "      <td>97</td>\n",
       "      <td>97</td>\n",
       "    </tr>\n",
       "    <tr>\n",
       "      <th>1</th>\n",
       "      <td>33333</td>\n",
       "      <td>12/04/2020</td>\n",
       "      <td>00014e</td>\n",
       "      <td>14</td>\n",
       "      <td>14</td>\n",
       "      <td>2</td>\n",
       "      <td>0</td>\n",
       "      <td>14</td>\n",
       "      <td>Jalisco</td>\n",
       "      <td>JC</td>\n",
       "      <td>...</td>\n",
       "      <td>2</td>\n",
       "      <td>2</td>\n",
       "      <td>1</td>\n",
       "      <td>2</td>\n",
       "      <td>2</td>\n",
       "      <td>1</td>\n",
       "      <td>2</td>\n",
       "      <td>1</td>\n",
       "      <td>97</td>\n",
       "      <td>2</td>\n",
       "    </tr>\n",
       "    <tr>\n",
       "      <th>2</th>\n",
       "      <td>35483</td>\n",
       "      <td>12/04/2020</td>\n",
       "      <td>153</td>\n",
       "      <td>8</td>\n",
       "      <td>8</td>\n",
       "      <td>1</td>\n",
       "      <td>0</td>\n",
       "      <td>8</td>\n",
       "      <td>Chihuahua</td>\n",
       "      <td>CH</td>\n",
       "      <td>...</td>\n",
       "      <td>2</td>\n",
       "      <td>2</td>\n",
       "      <td>2</td>\n",
       "      <td>2</td>\n",
       "      <td>2</td>\n",
       "      <td>2</td>\n",
       "      <td>2</td>\n",
       "      <td>2</td>\n",
       "      <td>97</td>\n",
       "      <td>2</td>\n",
       "    </tr>\n",
       "    <tr>\n",
       "      <th>3</th>\n",
       "      <td>7062</td>\n",
       "      <td>12/04/2020</td>\n",
       "      <td>0001b6</td>\n",
       "      <td>9</td>\n",
       "      <td>15</td>\n",
       "      <td>1</td>\n",
       "      <td>0</td>\n",
       "      <td>9</td>\n",
       "      <td>Ciudad de Mexico</td>\n",
       "      <td>DF</td>\n",
       "      <td>...</td>\n",
       "      <td>2</td>\n",
       "      <td>2</td>\n",
       "      <td>2</td>\n",
       "      <td>2</td>\n",
       "      <td>2</td>\n",
       "      <td>1</td>\n",
       "      <td>2</td>\n",
       "      <td>2</td>\n",
       "      <td>97</td>\n",
       "      <td>97</td>\n",
       "    </tr>\n",
       "    <tr>\n",
       "      <th>4</th>\n",
       "      <td>23745</td>\n",
       "      <td>12/04/2020</td>\n",
       "      <td>0001c1</td>\n",
       "      <td>9</td>\n",
       "      <td>9</td>\n",
       "      <td>2</td>\n",
       "      <td>0</td>\n",
       "      <td>9</td>\n",
       "      <td>Ciudad de Mexico</td>\n",
       "      <td>DF</td>\n",
       "      <td>...</td>\n",
       "      <td>2</td>\n",
       "      <td>2</td>\n",
       "      <td>2</td>\n",
       "      <td>2</td>\n",
       "      <td>2</td>\n",
       "      <td>2</td>\n",
       "      <td>2</td>\n",
       "      <td>2</td>\n",
       "      <td>97</td>\n",
       "      <td>97</td>\n",
       "    </tr>\n",
       "    <tr>\n",
       "      <th>...</th>\n",
       "      <td>...</td>\n",
       "      <td>...</td>\n",
       "      <td>...</td>\n",
       "      <td>...</td>\n",
       "      <td>...</td>\n",
       "      <td>...</td>\n",
       "      <td>...</td>\n",
       "      <td>...</td>\n",
       "      <td>...</td>\n",
       "      <td>...</td>\n",
       "      <td>...</td>\n",
       "      <td>...</td>\n",
       "      <td>...</td>\n",
       "      <td>...</td>\n",
       "      <td>...</td>\n",
       "      <td>...</td>\n",
       "      <td>...</td>\n",
       "      <td>...</td>\n",
       "      <td>...</td>\n",
       "      <td>...</td>\n",
       "      <td>...</td>\n",
       "    </tr>\n",
       "    <tr>\n",
       "      <th>263002</th>\n",
       "      <td>7094887</td>\n",
       "      <td>03/06/2020</td>\n",
       "      <td>1e019c</td>\n",
       "      <td>32</td>\n",
       "      <td>32</td>\n",
       "      <td>1</td>\n",
       "      <td>0</td>\n",
       "      <td>32</td>\n",
       "      <td>Zacatecas</td>\n",
       "      <td>ZS</td>\n",
       "      <td>...</td>\n",
       "      <td>2</td>\n",
       "      <td>2</td>\n",
       "      <td>2</td>\n",
       "      <td>2</td>\n",
       "      <td>2</td>\n",
       "      <td>2</td>\n",
       "      <td>2</td>\n",
       "      <td>2</td>\n",
       "      <td>99</td>\n",
       "      <td>97</td>\n",
       "    </tr>\n",
       "    <tr>\n",
       "      <th>263003</th>\n",
       "      <td>7053721</td>\n",
       "      <td>03/06/2020</td>\n",
       "      <td>1e2b05</td>\n",
       "      <td>12</td>\n",
       "      <td>12</td>\n",
       "      <td>1</td>\n",
       "      <td>0</td>\n",
       "      <td>12</td>\n",
       "      <td>Guerrero</td>\n",
       "      <td>GR</td>\n",
       "      <td>...</td>\n",
       "      <td>2</td>\n",
       "      <td>2</td>\n",
       "      <td>2</td>\n",
       "      <td>2</td>\n",
       "      <td>2</td>\n",
       "      <td>1</td>\n",
       "      <td>2</td>\n",
       "      <td>2</td>\n",
       "      <td>99</td>\n",
       "      <td>2</td>\n",
       "    </tr>\n",
       "    <tr>\n",
       "      <th>263004</th>\n",
       "      <td>7055429</td>\n",
       "      <td>03/06/2020</td>\n",
       "      <td>1e473f</td>\n",
       "      <td>20</td>\n",
       "      <td>20</td>\n",
       "      <td>1</td>\n",
       "      <td>0</td>\n",
       "      <td>20</td>\n",
       "      <td>Oaxaca</td>\n",
       "      <td>OC</td>\n",
       "      <td>...</td>\n",
       "      <td>2</td>\n",
       "      <td>2</td>\n",
       "      <td>1</td>\n",
       "      <td>2</td>\n",
       "      <td>2</td>\n",
       "      <td>2</td>\n",
       "      <td>1</td>\n",
       "      <td>2</td>\n",
       "      <td>99</td>\n",
       "      <td>2</td>\n",
       "    </tr>\n",
       "    <tr>\n",
       "      <th>263005</th>\n",
       "      <td>7043768</td>\n",
       "      <td>03/06/2020</td>\n",
       "      <td>1e6da1</td>\n",
       "      <td>13</td>\n",
       "      <td>13</td>\n",
       "      <td>1</td>\n",
       "      <td>0</td>\n",
       "      <td>13</td>\n",
       "      <td>Hidalgo</td>\n",
       "      <td>HG</td>\n",
       "      <td>...</td>\n",
       "      <td>2</td>\n",
       "      <td>2</td>\n",
       "      <td>1</td>\n",
       "      <td>2</td>\n",
       "      <td>2</td>\n",
       "      <td>2</td>\n",
       "      <td>2</td>\n",
       "      <td>2</td>\n",
       "      <td>99</td>\n",
       "      <td>2</td>\n",
       "    </tr>\n",
       "    <tr>\n",
       "      <th>263006</th>\n",
       "      <td>7093277</td>\n",
       "      <td>03/06/2020</td>\n",
       "      <td>1e8453</td>\n",
       "      <td>9</td>\n",
       "      <td>9</td>\n",
       "      <td>1</td>\n",
       "      <td>0</td>\n",
       "      <td>9</td>\n",
       "      <td>Ciudad de Mexico</td>\n",
       "      <td>DF</td>\n",
       "      <td>...</td>\n",
       "      <td>2</td>\n",
       "      <td>2</td>\n",
       "      <td>2</td>\n",
       "      <td>2</td>\n",
       "      <td>2</td>\n",
       "      <td>2</td>\n",
       "      <td>2</td>\n",
       "      <td>2</td>\n",
       "      <td>99</td>\n",
       "      <td>97</td>\n",
       "    </tr>\n",
       "  </tbody>\n",
       "</table>\n",
       "<p>263007 rows × 38 columns</p>\n",
       "</div>"
      ],
      "text/plain": [
       "             id Archieve Date ID_Registration  Hospital location  \\\n",
       "0          9269    12/04/2020          00011f                 25   \n",
       "1         33333    12/04/2020          00014e                 14   \n",
       "2         35483    12/04/2020             153                  8   \n",
       "3          7062    12/04/2020          0001b6                  9   \n",
       "4         23745    12/04/2020          0001c1                  9   \n",
       "...         ...           ...             ...                ...   \n",
       "263002  7094887    03/06/2020          1e019c                 32   \n",
       "263003  7053721    03/06/2020          1e2b05                 12   \n",
       "263004  7055429    03/06/2020          1e473f                 20   \n",
       "263005  7043768    03/06/2020          1e6da1                 13   \n",
       "263006  7093277    03/06/2020          1e8453                  9   \n",
       "\n",
       "        Patient residence  covid_test_result  delay  region residence  \\\n",
       "0                      25                  2      0                25   \n",
       "1                      14                  2      0                14   \n",
       "2                       8                  1      0                 8   \n",
       "3                      15                  1      0                 9   \n",
       "4                       9                  2      0                 9   \n",
       "...                   ...                ...    ...               ...   \n",
       "263002                 32                  1      0                32   \n",
       "263003                 12                  1      0                12   \n",
       "263004                 20                  1      0                20   \n",
       "263005                 13                  1      0                13   \n",
       "263006                  9                  1      0                 9   \n",
       "\n",
       "                  States State Abreviation  ... Asthma  immunosuppressed  \\\n",
       "0                Sinaloa                SL  ...      2                 2   \n",
       "1                Jalisco                JC  ...      2                 2   \n",
       "2              Chihuahua                CH  ...      2                 2   \n",
       "3       Ciudad de Mexico                DF  ...      2                 2   \n",
       "4       Ciudad de Mexico                DF  ...      2                 2   \n",
       "...                  ...               ...  ...    ...               ...   \n",
       "263002         Zacatecas                ZS  ...      2                 2   \n",
       "263003          Guerrero                GR  ...      2                 2   \n",
       "263004            Oaxaca                OC  ...      2                 2   \n",
       "263005           Hidalgo                HG  ...      2                 2   \n",
       "263006  Ciudad de Mexico                DF  ...      2                 2   \n",
       "\n",
       "        Hypertension  Other diseases  Cardiovascular  Obesity  Chronic kidney  \\\n",
       "0                  1               2               2        1               2   \n",
       "1                  1               2               2        1               2   \n",
       "2                  2               2               2        2               2   \n",
       "3                  2               2               2        1               2   \n",
       "4                  2               2               2        2               2   \n",
       "...              ...             ...             ...      ...             ...   \n",
       "263002             2               2               2        2               2   \n",
       "263003             2               2               2        1               2   \n",
       "263004             1               2               2        2               1   \n",
       "263005             1               2               2        2               2   \n",
       "263006             2               2               2        2               2   \n",
       "\n",
       "       Smoking addiction Country of origin ICU  \n",
       "0                      2                97  97  \n",
       "1                      1                97   2  \n",
       "2                      2                97   2  \n",
       "3                      2                97  97  \n",
       "4                      2                97  97  \n",
       "...                  ...               ...  ..  \n",
       "263002                 2                99  97  \n",
       "263003                 2                99   2  \n",
       "263004                 2                99   2  \n",
       "263005                 2                99   2  \n",
       "263006                 2                99  97  \n",
       "\n",
       "[263007 rows x 38 columns]"
      ]
     },
     "execution_count": 3,
     "metadata": {},
     "output_type": "execute_result"
    }
   ],
   "source": [
    "#Droping irrelevant columns\n",
    "df.drop(['Another case', 'Migrant'], axis=1)"
   ]
  },
  {
   "cell_type": "code",
   "execution_count": 4,
   "metadata": {
    "scrolled": true
   },
   "outputs": [
    {
     "data": {
      "text/html": [
       "<div>\n",
       "<style scoped>\n",
       "    .dataframe tbody tr th:only-of-type {\n",
       "        vertical-align: middle;\n",
       "    }\n",
       "\n",
       "    .dataframe tbody tr th {\n",
       "        vertical-align: top;\n",
       "    }\n",
       "\n",
       "    .dataframe thead th {\n",
       "        text-align: right;\n",
       "    }\n",
       "</style>\n",
       "<table border=\"1\" class=\"dataframe\">\n",
       "  <thead>\n",
       "    <tr style=\"text-align: right;\">\n",
       "      <th></th>\n",
       "      <th>id</th>\n",
       "      <th>Archieve Date</th>\n",
       "      <th>ID_Registration</th>\n",
       "      <th>Hospital location</th>\n",
       "      <th>Patient residence</th>\n",
       "      <th>covid_test_result</th>\n",
       "      <th>delay</th>\n",
       "      <th>region residence</th>\n",
       "      <th>States</th>\n",
       "      <th>State Abreviation</th>\n",
       "      <th>...</th>\n",
       "      <th>Hypertension</th>\n",
       "      <th>Other diseases</th>\n",
       "      <th>Cardiovascular</th>\n",
       "      <th>Obesity</th>\n",
       "      <th>Chronic kidney</th>\n",
       "      <th>Smoking addiction</th>\n",
       "      <th>Another case</th>\n",
       "      <th>Migrant</th>\n",
       "      <th>Country of origin</th>\n",
       "      <th>ICU</th>\n",
       "    </tr>\n",
       "  </thead>\n",
       "  <tbody>\n",
       "    <tr>\n",
       "      <th>0</th>\n",
       "      <td>9269</td>\n",
       "      <td>12/04/2020</td>\n",
       "      <td>00011f</td>\n",
       "      <td>25</td>\n",
       "      <td>25</td>\n",
       "      <td>2</td>\n",
       "      <td>0</td>\n",
       "      <td>25</td>\n",
       "      <td>Sinaloa</td>\n",
       "      <td>SL</td>\n",
       "      <td>...</td>\n",
       "      <td>1</td>\n",
       "      <td>2</td>\n",
       "      <td>2</td>\n",
       "      <td>1</td>\n",
       "      <td>2</td>\n",
       "      <td>2</td>\n",
       "      <td>2</td>\n",
       "      <td>99</td>\n",
       "      <td>97</td>\n",
       "      <td>97</td>\n",
       "    </tr>\n",
       "    <tr>\n",
       "      <th>1</th>\n",
       "      <td>33333</td>\n",
       "      <td>12/04/2020</td>\n",
       "      <td>00014e</td>\n",
       "      <td>14</td>\n",
       "      <td>14</td>\n",
       "      <td>2</td>\n",
       "      <td>0</td>\n",
       "      <td>14</td>\n",
       "      <td>Jalisco</td>\n",
       "      <td>JC</td>\n",
       "      <td>...</td>\n",
       "      <td>1</td>\n",
       "      <td>2</td>\n",
       "      <td>2</td>\n",
       "      <td>1</td>\n",
       "      <td>2</td>\n",
       "      <td>1</td>\n",
       "      <td>99</td>\n",
       "      <td>99</td>\n",
       "      <td>97</td>\n",
       "      <td>2</td>\n",
       "    </tr>\n",
       "    <tr>\n",
       "      <th>2</th>\n",
       "      <td>35483</td>\n",
       "      <td>12/04/2020</td>\n",
       "      <td>153</td>\n",
       "      <td>8</td>\n",
       "      <td>8</td>\n",
       "      <td>1</td>\n",
       "      <td>0</td>\n",
       "      <td>8</td>\n",
       "      <td>Chihuahua</td>\n",
       "      <td>CH</td>\n",
       "      <td>...</td>\n",
       "      <td>2</td>\n",
       "      <td>2</td>\n",
       "      <td>2</td>\n",
       "      <td>2</td>\n",
       "      <td>2</td>\n",
       "      <td>2</td>\n",
       "      <td>99</td>\n",
       "      <td>99</td>\n",
       "      <td>97</td>\n",
       "      <td>2</td>\n",
       "    </tr>\n",
       "    <tr>\n",
       "      <th>3</th>\n",
       "      <td>7062</td>\n",
       "      <td>12/04/2020</td>\n",
       "      <td>0001b6</td>\n",
       "      <td>9</td>\n",
       "      <td>15</td>\n",
       "      <td>1</td>\n",
       "      <td>0</td>\n",
       "      <td>9</td>\n",
       "      <td>Ciudad de Mexico</td>\n",
       "      <td>DF</td>\n",
       "      <td>...</td>\n",
       "      <td>2</td>\n",
       "      <td>2</td>\n",
       "      <td>2</td>\n",
       "      <td>1</td>\n",
       "      <td>2</td>\n",
       "      <td>2</td>\n",
       "      <td>99</td>\n",
       "      <td>99</td>\n",
       "      <td>97</td>\n",
       "      <td>97</td>\n",
       "    </tr>\n",
       "    <tr>\n",
       "      <th>4</th>\n",
       "      <td>23745</td>\n",
       "      <td>12/04/2020</td>\n",
       "      <td>0001c1</td>\n",
       "      <td>9</td>\n",
       "      <td>9</td>\n",
       "      <td>2</td>\n",
       "      <td>0</td>\n",
       "      <td>9</td>\n",
       "      <td>Ciudad de Mexico</td>\n",
       "      <td>DF</td>\n",
       "      <td>...</td>\n",
       "      <td>2</td>\n",
       "      <td>2</td>\n",
       "      <td>2</td>\n",
       "      <td>2</td>\n",
       "      <td>2</td>\n",
       "      <td>2</td>\n",
       "      <td>99</td>\n",
       "      <td>99</td>\n",
       "      <td>97</td>\n",
       "      <td>97</td>\n",
       "    </tr>\n",
       "  </tbody>\n",
       "</table>\n",
       "<p>5 rows × 40 columns</p>\n",
       "</div>"
      ],
      "text/plain": [
       "      id Archieve Date ID_Registration  Hospital location  Patient residence  \\\n",
       "0   9269    12/04/2020          00011f                 25                 25   \n",
       "1  33333    12/04/2020          00014e                 14                 14   \n",
       "2  35483    12/04/2020             153                  8                  8   \n",
       "3   7062    12/04/2020          0001b6                  9                 15   \n",
       "4  23745    12/04/2020          0001c1                  9                  9   \n",
       "\n",
       "   covid_test_result  delay  region residence            States  \\\n",
       "0                  2      0                25           Sinaloa   \n",
       "1                  2      0                14           Jalisco   \n",
       "2                  1      0                 8         Chihuahua   \n",
       "3                  1      0                 9  Ciudad de Mexico   \n",
       "4                  2      0                 9  Ciudad de Mexico   \n",
       "\n",
       "  State Abreviation  ... Hypertension  Other diseases  Cardiovascular  \\\n",
       "0                SL  ...            1               2               2   \n",
       "1                JC  ...            1               2               2   \n",
       "2                CH  ...            2               2               2   \n",
       "3                DF  ...            2               2               2   \n",
       "4                DF  ...            2               2               2   \n",
       "\n",
       "   Obesity  Chronic kidney  Smoking addiction  Another case Migrant  \\\n",
       "0        1               2                  2             2      99   \n",
       "1        1               2                  1            99      99   \n",
       "2        2               2                  2            99      99   \n",
       "3        1               2                  2            99      99   \n",
       "4        2               2                  2            99      99   \n",
       "\n",
       "  Country of origin ICU  \n",
       "0                97  97  \n",
       "1                97   2  \n",
       "2                97   2  \n",
       "3                97  97  \n",
       "4                97  97  \n",
       "\n",
       "[5 rows x 40 columns]"
      ]
     },
     "execution_count": 4,
     "metadata": {},
     "output_type": "execute_result"
    }
   ],
   "source": [
    "#Displaying the first 5 rows of the dataset\n",
    "df.head()"
   ]
  },
  {
   "cell_type": "code",
   "execution_count": 5,
   "metadata": {
    "scrolled": false
   },
   "outputs": [
    {
     "data": {
      "text/html": [
       "<div>\n",
       "<style scoped>\n",
       "    .dataframe tbody tr th:only-of-type {\n",
       "        vertical-align: middle;\n",
       "    }\n",
       "\n",
       "    .dataframe tbody tr th {\n",
       "        vertical-align: top;\n",
       "    }\n",
       "\n",
       "    .dataframe thead th {\n",
       "        text-align: right;\n",
       "    }\n",
       "</style>\n",
       "<table border=\"1\" class=\"dataframe\">\n",
       "  <thead>\n",
       "    <tr style=\"text-align: right;\">\n",
       "      <th></th>\n",
       "      <th>id</th>\n",
       "      <th>Hospital location</th>\n",
       "      <th>Patient residence</th>\n",
       "      <th>covid_test_result</th>\n",
       "      <th>delay</th>\n",
       "      <th>region residence</th>\n",
       "      <th>Source</th>\n",
       "      <th>Health sector type</th>\n",
       "      <th>Sex</th>\n",
       "      <th>birth region</th>\n",
       "      <th>...</th>\n",
       "      <th>immunosuppressed</th>\n",
       "      <th>Hypertension</th>\n",
       "      <th>Other diseases</th>\n",
       "      <th>Cardiovascular</th>\n",
       "      <th>Obesity</th>\n",
       "      <th>Chronic kidney</th>\n",
       "      <th>Smoking addiction</th>\n",
       "      <th>Another case</th>\n",
       "      <th>Migrant</th>\n",
       "      <th>ICU</th>\n",
       "    </tr>\n",
       "  </thead>\n",
       "  <tbody>\n",
       "    <tr>\n",
       "      <th>count</th>\n",
       "      <td>2.630070e+05</td>\n",
       "      <td>263007.000000</td>\n",
       "      <td>263007.000000</td>\n",
       "      <td>263007.000000</td>\n",
       "      <td>263007.0</td>\n",
       "      <td>263007.000000</td>\n",
       "      <td>263007.000000</td>\n",
       "      <td>263007.000000</td>\n",
       "      <td>263007.000000</td>\n",
       "      <td>263007.000000</td>\n",
       "      <td>...</td>\n",
       "      <td>263007.000000</td>\n",
       "      <td>263007.000000</td>\n",
       "      <td>263007.000000</td>\n",
       "      <td>263007.000000</td>\n",
       "      <td>263007.000000</td>\n",
       "      <td>263007.000000</td>\n",
       "      <td>263007.000000</td>\n",
       "      <td>263007.000000</td>\n",
       "      <td>263007.000000</td>\n",
       "      <td>263007.000000</td>\n",
       "    </tr>\n",
       "    <tr>\n",
       "      <th>mean</th>\n",
       "      <td>2.946176e+06</td>\n",
       "      <td>14.844601</td>\n",
       "      <td>15.127719</td>\n",
       "      <td>1.609672</td>\n",
       "      <td>0.0</td>\n",
       "      <td>15.092271</td>\n",
       "      <td>1.635789</td>\n",
       "      <td>9.601680</td>\n",
       "      <td>1.510682</td>\n",
       "      <td>19.691004</td>\n",
       "      <td>...</td>\n",
       "      <td>2.359667</td>\n",
       "      <td>2.174185</td>\n",
       "      <td>2.453961</td>\n",
       "      <td>2.324980</td>\n",
       "      <td>2.184763</td>\n",
       "      <td>2.320231</td>\n",
       "      <td>2.268217</td>\n",
       "      <td>32.283764</td>\n",
       "      <td>98.593680</td>\n",
       "      <td>74.541012</td>\n",
       "    </tr>\n",
       "    <tr>\n",
       "      <th>std</th>\n",
       "      <td>2.212368e+06</td>\n",
       "      <td>8.001043</td>\n",
       "      <td>7.904314</td>\n",
       "      <td>0.487825</td>\n",
       "      <td>0.0</td>\n",
       "      <td>7.915406</td>\n",
       "      <td>0.481209</td>\n",
       "      <td>7.265468</td>\n",
       "      <td>0.499887</td>\n",
       "      <td>19.378113</td>\n",
       "      <td>...</td>\n",
       "      <td>6.021830</td>\n",
       "      <td>5.745114</td>\n",
       "      <td>6.850231</td>\n",
       "      <td>5.796086</td>\n",
       "      <td>5.817362</td>\n",
       "      <td>5.722995</td>\n",
       "      <td>5.867586</td>\n",
       "      <td>45.350310</td>\n",
       "      <td>6.275497</td>\n",
       "      <td>40.384991</td>\n",
       "    </tr>\n",
       "    <tr>\n",
       "      <th>min</th>\n",
       "      <td>1.000000e+00</td>\n",
       "      <td>1.000000</td>\n",
       "      <td>1.000000</td>\n",
       "      <td>1.000000</td>\n",
       "      <td>0.0</td>\n",
       "      <td>1.000000</td>\n",
       "      <td>1.000000</td>\n",
       "      <td>1.000000</td>\n",
       "      <td>1.000000</td>\n",
       "      <td>1.000000</td>\n",
       "      <td>...</td>\n",
       "      <td>1.000000</td>\n",
       "      <td>1.000000</td>\n",
       "      <td>1.000000</td>\n",
       "      <td>1.000000</td>\n",
       "      <td>1.000000</td>\n",
       "      <td>1.000000</td>\n",
       "      <td>1.000000</td>\n",
       "      <td>1.000000</td>\n",
       "      <td>1.000000</td>\n",
       "      <td>1.000000</td>\n",
       "    </tr>\n",
       "    <tr>\n",
       "      <th>25%</th>\n",
       "      <td>8.689635e+05</td>\n",
       "      <td>9.000000</td>\n",
       "      <td>9.000000</td>\n",
       "      <td>1.000000</td>\n",
       "      <td>0.0</td>\n",
       "      <td>9.000000</td>\n",
       "      <td>1.000000</td>\n",
       "      <td>4.000000</td>\n",
       "      <td>1.000000</td>\n",
       "      <td>9.000000</td>\n",
       "      <td>...</td>\n",
       "      <td>2.000000</td>\n",
       "      <td>2.000000</td>\n",
       "      <td>2.000000</td>\n",
       "      <td>2.000000</td>\n",
       "      <td>2.000000</td>\n",
       "      <td>2.000000</td>\n",
       "      <td>2.000000</td>\n",
       "      <td>1.000000</td>\n",
       "      <td>99.000000</td>\n",
       "      <td>97.000000</td>\n",
       "    </tr>\n",
       "    <tr>\n",
       "      <th>50%</th>\n",
       "      <td>2.733242e+06</td>\n",
       "      <td>14.000000</td>\n",
       "      <td>15.000000</td>\n",
       "      <td>2.000000</td>\n",
       "      <td>0.0</td>\n",
       "      <td>15.000000</td>\n",
       "      <td>2.000000</td>\n",
       "      <td>12.000000</td>\n",
       "      <td>2.000000</td>\n",
       "      <td>15.000000</td>\n",
       "      <td>...</td>\n",
       "      <td>2.000000</td>\n",
       "      <td>2.000000</td>\n",
       "      <td>2.000000</td>\n",
       "      <td>2.000000</td>\n",
       "      <td>2.000000</td>\n",
       "      <td>2.000000</td>\n",
       "      <td>2.000000</td>\n",
       "      <td>2.000000</td>\n",
       "      <td>99.000000</td>\n",
       "      <td>97.000000</td>\n",
       "    </tr>\n",
       "    <tr>\n",
       "      <th>75%</th>\n",
       "      <td>4.789668e+06</td>\n",
       "      <td>21.000000</td>\n",
       "      <td>21.000000</td>\n",
       "      <td>2.000000</td>\n",
       "      <td>0.0</td>\n",
       "      <td>21.000000</td>\n",
       "      <td>2.000000</td>\n",
       "      <td>12.000000</td>\n",
       "      <td>2.000000</td>\n",
       "      <td>24.000000</td>\n",
       "      <td>...</td>\n",
       "      <td>2.000000</td>\n",
       "      <td>2.000000</td>\n",
       "      <td>2.000000</td>\n",
       "      <td>2.000000</td>\n",
       "      <td>2.000000</td>\n",
       "      <td>2.000000</td>\n",
       "      <td>2.000000</td>\n",
       "      <td>99.000000</td>\n",
       "      <td>99.000000</td>\n",
       "      <td>97.000000</td>\n",
       "    </tr>\n",
       "    <tr>\n",
       "      <th>max</th>\n",
       "      <td>7.277125e+06</td>\n",
       "      <td>32.000000</td>\n",
       "      <td>32.000000</td>\n",
       "      <td>2.000000</td>\n",
       "      <td>0.0</td>\n",
       "      <td>32.000000</td>\n",
       "      <td>2.000000</td>\n",
       "      <td>99.000000</td>\n",
       "      <td>2.000000</td>\n",
       "      <td>99.000000</td>\n",
       "      <td>...</td>\n",
       "      <td>98.000000</td>\n",
       "      <td>98.000000</td>\n",
       "      <td>98.000000</td>\n",
       "      <td>98.000000</td>\n",
       "      <td>98.000000</td>\n",
       "      <td>98.000000</td>\n",
       "      <td>98.000000</td>\n",
       "      <td>99.000000</td>\n",
       "      <td>99.000000</td>\n",
       "      <td>99.000000</td>\n",
       "    </tr>\n",
       "  </tbody>\n",
       "</table>\n",
       "<p>8 rows × 31 columns</p>\n",
       "</div>"
      ],
      "text/plain": [
       "                 id  Hospital location  Patient residence  covid_test_result  \\\n",
       "count  2.630070e+05      263007.000000      263007.000000      263007.000000   \n",
       "mean   2.946176e+06          14.844601          15.127719           1.609672   \n",
       "std    2.212368e+06           8.001043           7.904314           0.487825   \n",
       "min    1.000000e+00           1.000000           1.000000           1.000000   \n",
       "25%    8.689635e+05           9.000000           9.000000           1.000000   \n",
       "50%    2.733242e+06          14.000000          15.000000           2.000000   \n",
       "75%    4.789668e+06          21.000000          21.000000           2.000000   \n",
       "max    7.277125e+06          32.000000          32.000000           2.000000   \n",
       "\n",
       "          delay  region residence         Source  Health sector type  \\\n",
       "count  263007.0     263007.000000  263007.000000       263007.000000   \n",
       "mean        0.0         15.092271       1.635789            9.601680   \n",
       "std         0.0          7.915406       0.481209            7.265468   \n",
       "min         0.0          1.000000       1.000000            1.000000   \n",
       "25%         0.0          9.000000       1.000000            4.000000   \n",
       "50%         0.0         15.000000       2.000000           12.000000   \n",
       "75%         0.0         21.000000       2.000000           12.000000   \n",
       "max         0.0         32.000000       2.000000           99.000000   \n",
       "\n",
       "                 Sex   birth region  ...  immunosuppressed   Hypertension  \\\n",
       "count  263007.000000  263007.000000  ...     263007.000000  263007.000000   \n",
       "mean        1.510682      19.691004  ...          2.359667       2.174185   \n",
       "std         0.499887      19.378113  ...          6.021830       5.745114   \n",
       "min         1.000000       1.000000  ...          1.000000       1.000000   \n",
       "25%         1.000000       9.000000  ...          2.000000       2.000000   \n",
       "50%         2.000000      15.000000  ...          2.000000       2.000000   \n",
       "75%         2.000000      24.000000  ...          2.000000       2.000000   \n",
       "max         2.000000      99.000000  ...         98.000000      98.000000   \n",
       "\n",
       "       Other diseases  Cardiovascular        Obesity  Chronic kidney  \\\n",
       "count   263007.000000   263007.000000  263007.000000   263007.000000   \n",
       "mean         2.453961        2.324980       2.184763        2.320231   \n",
       "std          6.850231        5.796086       5.817362        5.722995   \n",
       "min          1.000000        1.000000       1.000000        1.000000   \n",
       "25%          2.000000        2.000000       2.000000        2.000000   \n",
       "50%          2.000000        2.000000       2.000000        2.000000   \n",
       "75%          2.000000        2.000000       2.000000        2.000000   \n",
       "max         98.000000       98.000000      98.000000       98.000000   \n",
       "\n",
       "       Smoking addiction   Another case        Migrant            ICU  \n",
       "count      263007.000000  263007.000000  263007.000000  263007.000000  \n",
       "mean            2.268217      32.283764      98.593680      74.541012  \n",
       "std             5.867586      45.350310       6.275497      40.384991  \n",
       "min             1.000000       1.000000       1.000000       1.000000  \n",
       "25%             2.000000       1.000000      99.000000      97.000000  \n",
       "50%             2.000000       2.000000      99.000000      97.000000  \n",
       "75%             2.000000      99.000000      99.000000      97.000000  \n",
       "max            98.000000      99.000000      99.000000      99.000000  \n",
       "\n",
       "[8 rows x 31 columns]"
      ]
     },
     "execution_count": 5,
     "metadata": {},
     "output_type": "execute_result"
    }
   ],
   "source": [
    "#Summary of the data statistics\n",
    "df.describe()"
   ]
  },
  {
   "cell_type": "code",
   "execution_count": 6,
   "metadata": {
    "scrolled": true
   },
   "outputs": [
    {
     "data": {
      "text/plain": [
       "(263007, 40)"
      ]
     },
     "execution_count": 6,
     "metadata": {},
     "output_type": "execute_result"
    }
   ],
   "source": [
    "#The total number of rows and colunms\n",
    "df.shape"
   ]
  },
  {
   "cell_type": "code",
   "execution_count": 7,
   "metadata": {},
   "outputs": [
    {
     "name": "stdout",
     "output_type": "stream",
     "text": [
      "<class 'pandas.core.frame.DataFrame'>\n",
      "RangeIndex: 263007 entries, 0 to 263006\n",
      "Data columns (total 40 columns):\n",
      " #   Column               Non-Null Count   Dtype  \n",
      "---  ------               --------------   -----  \n",
      " 0   id                   263007 non-null  int64  \n",
      " 1   Archieve Date        263007 non-null  object \n",
      " 2   ID_Registration      263007 non-null  object \n",
      " 3   Hospital location    263007 non-null  int64  \n",
      " 4   Patient residence    263007 non-null  int64  \n",
      " 5   covid_test_result    263007 non-null  int64  \n",
      " 6   delay                263007 non-null  int64  \n",
      " 7   region residence     263007 non-null  int64  \n",
      " 8   States               263007 non-null  object \n",
      " 9   State Abreviation    263007 non-null  object \n",
      " 10  Date Update          263007 non-null  object \n",
      " 11  Source               263007 non-null  int64  \n",
      " 12  Health sector type   263007 non-null  int64  \n",
      " 13  Sex                  263007 non-null  int64  \n",
      " 14  birth region         263007 non-null  int64  \n",
      " 15  City/Town            263001 non-null  float64\n",
      " 16  Patient type         263007 non-null  int64  \n",
      " 17  Admission date       263007 non-null  object \n",
      " 18  Symptom_date         263007 non-null  object \n",
      " 19  Patients death date  263007 non-null  object \n",
      " 20  Intubation           263007 non-null  int64  \n",
      " 21  Pneumonia            263007 non-null  int64  \n",
      " 22  Age                  263007 non-null  int64  \n",
      " 23  Nationality          263007 non-null  int64  \n",
      " 24  Pregnancy            263007 non-null  int64  \n",
      " 25  Speak language       263007 non-null  int64  \n",
      " 26  Diabetes             263007 non-null  int64  \n",
      " 27  Copd                 263007 non-null  int64  \n",
      " 28  Asthma               263007 non-null  int64  \n",
      " 29  immunosuppressed     263007 non-null  int64  \n",
      " 30  Hypertension         263007 non-null  int64  \n",
      " 31  Other diseases       263007 non-null  int64  \n",
      " 32  Cardiovascular       263007 non-null  int64  \n",
      " 33  Obesity              263007 non-null  int64  \n",
      " 34  Chronic kidney       263007 non-null  int64  \n",
      " 35  Smoking addiction    263007 non-null  int64  \n",
      " 36  Another case         263007 non-null  int64  \n",
      " 37  Migrant              263007 non-null  int64  \n",
      " 38  Country of origin    263007 non-null  object \n",
      " 39  ICU                  263007 non-null  int64  \n",
      "dtypes: float64(1), int64(30), object(9)\n",
      "memory usage: 80.3+ MB\n"
     ]
    }
   ],
   "source": [
    "#Data summary\n",
    "df.info()"
   ]
  },
  {
   "cell_type": "code",
   "execution_count": 8,
   "metadata": {},
   "outputs": [
    {
     "data": {
      "text/plain": [
       "0"
      ]
     },
     "execution_count": 8,
     "metadata": {},
     "output_type": "execute_result"
    }
   ],
   "source": [
    "#Number the duplicated rows\n",
    "df.duplicated().sum()"
   ]
  },
  {
   "cell_type": "code",
   "execution_count": 9,
   "metadata": {
    "scrolled": true
   },
   "outputs": [
    {
     "data": {
      "text/plain": [
       "id                     263007\n",
       "Archieve Date              53\n",
       "ID_Registration        261947\n",
       "Hospital location          32\n",
       "Patient residence          32\n",
       "covid_test_result           2\n",
       "delay                       1\n",
       "region residence           32\n",
       "States                     32\n",
       "State Abreviation          32\n",
       "Date Update                46\n",
       "Source                      2\n",
       "Health sector type         14\n",
       "Sex                         2\n",
       "birth region               33\n",
       "City/Town                 359\n",
       "Patient type                2\n",
       "Admission date            155\n",
       "Symptom_date              154\n",
       "Patients death date        88\n",
       "Intubation                  4\n",
       "Pneumonia                   3\n",
       "Age                       117\n",
       "Nationality                 2\n",
       "Pregnancy                   4\n",
       "Speak language              3\n",
       "Diabetes                    3\n",
       "Copd                        3\n",
       "Asthma                      3\n",
       "immunosuppressed            3\n",
       "Hypertension                3\n",
       "Other diseases              3\n",
       "Cardiovascular              3\n",
       "Obesity                     3\n",
       "Chronic kidney              3\n",
       "Smoking addiction           3\n",
       "Another case                3\n",
       "Migrant                     3\n",
       "Country of origin          51\n",
       "ICU                         4\n",
       "dtype: int64"
      ]
     },
     "execution_count": 9,
     "metadata": {},
     "output_type": "execute_result"
    }
   ],
   "source": [
    "#Displaying unique values in a row\n",
    "df.nunique()"
   ]
  },
  {
   "cell_type": "code",
   "execution_count": 10,
   "metadata": {},
   "outputs": [],
   "source": [
    "#Feature selection\n",
    "df=df[['covid_test_result','Sex','Patient type','Intubation','Pneumonia','Age','Diabetes','Copd','Asthma','Pregnancy','immunosuppressed','Hypertension','Other diseases','Cardiovascular','Obesity','Chronic kidney','Smoking addiction','ICU']]"
   ]
  },
  {
   "cell_type": "code",
   "execution_count": 11,
   "metadata": {},
   "outputs": [
    {
     "data": {
      "text/plain": [
       "covid_test_result    int64\n",
       "Sex                  int64\n",
       "Patient type         int64\n",
       "Intubation           int64\n",
       "Pneumonia            int64\n",
       "Age                  int64\n",
       "Diabetes             int64\n",
       "Copd                 int64\n",
       "Asthma               int64\n",
       "Pregnancy            int64\n",
       "immunosuppressed     int64\n",
       "Hypertension         int64\n",
       "Other diseases       int64\n",
       "Cardiovascular       int64\n",
       "Obesity              int64\n",
       "Chronic kidney       int64\n",
       "Smoking addiction    int64\n",
       "ICU                  int64\n",
       "dtype: object"
      ]
     },
     "execution_count": 11,
     "metadata": {},
     "output_type": "execute_result"
    }
   ],
   "source": [
    "#checking datatypes\n",
    "df.dtypes"
   ]
  },
  {
   "cell_type": "code",
   "execution_count": 12,
   "metadata": {
    "scrolled": true
   },
   "outputs": [
    {
     "name": "stdout",
     "output_type": "stream",
     "text": [
      "covid_test_result    0\n",
      "Sex                  0\n",
      "Patient type         0\n",
      "Intubation           0\n",
      "Pneumonia            0\n",
      "Age                  0\n",
      "Diabetes             0\n",
      "Copd                 0\n",
      "Asthma               0\n",
      "Pregnancy            0\n",
      "immunosuppressed     0\n",
      "Hypertension         0\n",
      "Other diseases       0\n",
      "Cardiovascular       0\n",
      "Obesity              0\n",
      "Chronic kidney       0\n",
      "Smoking addiction    0\n",
      "ICU                  0\n",
      "dtype: int64\n"
     ]
    }
   ],
   "source": [
    "#checking for null values\n",
    "print (df.isnull ().sum())"
   ]
  },
  {
   "cell_type": "markdown",
   "metadata": {},
   "source": [
    "# 2 Exploratory data analysis"
   ]
  },
  {
   "cell_type": "code",
   "execution_count": 13,
   "metadata": {
    "scrolled": true
   },
   "outputs": [
    {
     "data": {
      "text/plain": [
       "<matplotlib.axes._subplots.AxesSubplot at 0x2418bb13808>"
      ]
     },
     "execution_count": 13,
     "metadata": {},
     "output_type": "execute_result"
    },
    {
     "data": {
      "image/png": "[encoded data removed]",
      "text/plain": [
       "<Figure size 432x288 with 1 Axes>"
      ]
     },
     "metadata": {},
     "output_type": "display_data"
    }
   ],
   "source": [
    "#visualing age of patients that are most affected\n",
    "df[\"Age\"].plot.hist()"
   ]
  },
  {
   "cell_type": "code",
   "execution_count": 14,
   "metadata": {},
   "outputs": [
    {
     "data": {
      "image/png": "[encoded data removed]",
      "text/plain": [
       "<Figure size 432x288 with 1 Axes>"
      ]
     },
     "metadata": {},
     "output_type": "display_data"
    }
   ],
   "source": [
    "#Visualising the percentage of those tested for covid-19 \n",
    "#where 1 represnts postive result and 2 represents negative results\n",
    "ax = sns.countplot(x=\"covid_test_result\", data=df,\n",
    "                   facecolor=(0, 0, 0, 0),\n",
    "                   linewidth=5,\n",
    "                   edgecolor=sns.color_palette(\"dark\", 3))\n",
    "plt.show()"
   ]
  },
  {
   "cell_type": "code",
   "execution_count": 15,
   "metadata": {
    "scrolled": false
   },
   "outputs": [
    {
     "data": {
      "image/png": "[encoded data removed]",
      "text/plain": [
       "<Figure size 576x360 with 1 Axes>"
      ]
     },
     "metadata": {},
     "output_type": "display_data"
    }
   ],
   "source": [
    "#Visualising the sex of patients while counting those tested positive and negative to covid-19\n",
    "sns.set(style=\"whitegrid\")\n",
    "plt.figure(figsize=(8,5))\n",
    "total = float(len(df))\n",
    "ax = sns.countplot(x=\"covid_test_result\", hue=\"Sex\", data=df)"
   ]
  },
  {
   "cell_type": "code",
   "execution_count": 16,
   "metadata": {
    "scrolled": true
   },
   "outputs": [
    {
     "data": {
      "text/plain": [
       "<matplotlib.axes._subplots.AxesSubplot at 0x2418c308988>"
      ]
     },
     "execution_count": 16,
     "metadata": {},
     "output_type": "execute_result"
    },
    {
     "data": {
      "image/png": "[encoded data removed]",
      "text/plain": [
       "<Figure size 648x576 with 2 Axes>"
      ]
     },
     "metadata": {},
     "output_type": "display_data"
    }
   ],
   "source": [
    "#correlation matrix with heatmap\n",
    "corrmat = df.corr() \n",
    "  \n",
    "f, ax = plt.subplots(figsize =(9, 8)) \n",
    "sns.heatmap(corrmat, ax=ax, cmap='Blues', linewidths = 0.1)"
   ]
  },
  {
   "cell_type": "code",
   "execution_count": 17,
   "metadata": {},
   "outputs": [],
   "source": [
    "# Dependent variable from the dataset\n",
    "y = df['covid_test_result'].values"
   ]
  },
  {
   "cell_type": "code",
   "execution_count": 18,
   "metadata": {},
   "outputs": [],
   "source": [
    "# Feature selection\n",
    "X=df[['Sex','Patient type','Intubation','Pneumonia','Age','Diabetes','Copd','Asthma','Pregnancy','immunosuppressed','Hypertension','Other diseases','Cardiovascular','Obesity','Chronic kidney','Smoking addiction','ICU']]"
   ]
  },
  {
   "cell_type": "code",
   "execution_count": 19,
   "metadata": {},
   "outputs": [
    {
     "data": {
      "text/plain": [
       "array([2, 2, 1, ..., 1, 1, 1], dtype=int64)"
      ]
     },
     "execution_count": 19,
     "metadata": {},
     "output_type": "execute_result"
    }
   ],
   "source": [
    "y"
   ]
  },
  {
   "cell_type": "code",
   "execution_count": 20,
   "metadata": {
    "scrolled": false
   },
   "outputs": [
    {
     "data": {
      "text/html": [
       "<div>\n",
       "<style scoped>\n",
       "    .dataframe tbody tr th:only-of-type {\n",
       "        vertical-align: middle;\n",
       "    }\n",
       "\n",
       "    .dataframe tbody tr th {\n",
       "        vertical-align: top;\n",
       "    }\n",
       "\n",
       "    .dataframe thead th {\n",
       "        text-align: right;\n",
       "    }\n",
       "</style>\n",
       "<table border=\"1\" class=\"dataframe\">\n",
       "  <thead>\n",
       "    <tr style=\"text-align: right;\">\n",
       "      <th></th>\n",
       "      <th>Sex</th>\n",
       "      <th>Patient type</th>\n",
       "      <th>Intubation</th>\n",
       "      <th>Pneumonia</th>\n",
       "      <th>Age</th>\n",
       "      <th>Diabetes</th>\n",
       "      <th>Copd</th>\n",
       "      <th>Asthma</th>\n",
       "      <th>Pregnancy</th>\n",
       "      <th>immunosuppressed</th>\n",
       "      <th>Hypertension</th>\n",
       "      <th>Other diseases</th>\n",
       "      <th>Cardiovascular</th>\n",
       "      <th>Obesity</th>\n",
       "      <th>Chronic kidney</th>\n",
       "      <th>Smoking addiction</th>\n",
       "      <th>ICU</th>\n",
       "    </tr>\n",
       "  </thead>\n",
       "  <tbody>\n",
       "    <tr>\n",
       "      <th>0</th>\n",
       "      <td>2</td>\n",
       "      <td>1</td>\n",
       "      <td>97</td>\n",
       "      <td>2</td>\n",
       "      <td>74</td>\n",
       "      <td>1</td>\n",
       "      <td>2</td>\n",
       "      <td>2</td>\n",
       "      <td>97</td>\n",
       "      <td>2</td>\n",
       "      <td>1</td>\n",
       "      <td>2</td>\n",
       "      <td>2</td>\n",
       "      <td>1</td>\n",
       "      <td>2</td>\n",
       "      <td>2</td>\n",
       "      <td>97</td>\n",
       "    </tr>\n",
       "    <tr>\n",
       "      <th>1</th>\n",
       "      <td>1</td>\n",
       "      <td>2</td>\n",
       "      <td>2</td>\n",
       "      <td>2</td>\n",
       "      <td>71</td>\n",
       "      <td>1</td>\n",
       "      <td>1</td>\n",
       "      <td>2</td>\n",
       "      <td>2</td>\n",
       "      <td>2</td>\n",
       "      <td>1</td>\n",
       "      <td>2</td>\n",
       "      <td>2</td>\n",
       "      <td>1</td>\n",
       "      <td>2</td>\n",
       "      <td>1</td>\n",
       "      <td>2</td>\n",
       "    </tr>\n",
       "    <tr>\n",
       "      <th>2</th>\n",
       "      <td>2</td>\n",
       "      <td>2</td>\n",
       "      <td>2</td>\n",
       "      <td>1</td>\n",
       "      <td>50</td>\n",
       "      <td>2</td>\n",
       "      <td>2</td>\n",
       "      <td>2</td>\n",
       "      <td>97</td>\n",
       "      <td>2</td>\n",
       "      <td>2</td>\n",
       "      <td>2</td>\n",
       "      <td>2</td>\n",
       "      <td>2</td>\n",
       "      <td>2</td>\n",
       "      <td>2</td>\n",
       "      <td>2</td>\n",
       "    </tr>\n",
       "    <tr>\n",
       "      <th>3</th>\n",
       "      <td>1</td>\n",
       "      <td>1</td>\n",
       "      <td>97</td>\n",
       "      <td>2</td>\n",
       "      <td>25</td>\n",
       "      <td>2</td>\n",
       "      <td>2</td>\n",
       "      <td>2</td>\n",
       "      <td>2</td>\n",
       "      <td>2</td>\n",
       "      <td>2</td>\n",
       "      <td>2</td>\n",
       "      <td>2</td>\n",
       "      <td>1</td>\n",
       "      <td>2</td>\n",
       "      <td>2</td>\n",
       "      <td>97</td>\n",
       "    </tr>\n",
       "    <tr>\n",
       "      <th>4</th>\n",
       "      <td>1</td>\n",
       "      <td>1</td>\n",
       "      <td>97</td>\n",
       "      <td>2</td>\n",
       "      <td>28</td>\n",
       "      <td>2</td>\n",
       "      <td>2</td>\n",
       "      <td>2</td>\n",
       "      <td>2</td>\n",
       "      <td>2</td>\n",
       "      <td>2</td>\n",
       "      <td>2</td>\n",
       "      <td>2</td>\n",
       "      <td>2</td>\n",
       "      <td>2</td>\n",
       "      <td>2</td>\n",
       "      <td>97</td>\n",
       "    </tr>\n",
       "    <tr>\n",
       "      <th>...</th>\n",
       "      <td>...</td>\n",
       "      <td>...</td>\n",
       "      <td>...</td>\n",
       "      <td>...</td>\n",
       "      <td>...</td>\n",
       "      <td>...</td>\n",
       "      <td>...</td>\n",
       "      <td>...</td>\n",
       "      <td>...</td>\n",
       "      <td>...</td>\n",
       "      <td>...</td>\n",
       "      <td>...</td>\n",
       "      <td>...</td>\n",
       "      <td>...</td>\n",
       "      <td>...</td>\n",
       "      <td>...</td>\n",
       "      <td>...</td>\n",
       "    </tr>\n",
       "    <tr>\n",
       "      <th>263002</th>\n",
       "      <td>2</td>\n",
       "      <td>1</td>\n",
       "      <td>97</td>\n",
       "      <td>2</td>\n",
       "      <td>39</td>\n",
       "      <td>2</td>\n",
       "      <td>2</td>\n",
       "      <td>2</td>\n",
       "      <td>97</td>\n",
       "      <td>2</td>\n",
       "      <td>2</td>\n",
       "      <td>2</td>\n",
       "      <td>2</td>\n",
       "      <td>2</td>\n",
       "      <td>2</td>\n",
       "      <td>2</td>\n",
       "      <td>97</td>\n",
       "    </tr>\n",
       "    <tr>\n",
       "      <th>263003</th>\n",
       "      <td>1</td>\n",
       "      <td>2</td>\n",
       "      <td>2</td>\n",
       "      <td>1</td>\n",
       "      <td>53</td>\n",
       "      <td>1</td>\n",
       "      <td>1</td>\n",
       "      <td>2</td>\n",
       "      <td>2</td>\n",
       "      <td>2</td>\n",
       "      <td>2</td>\n",
       "      <td>2</td>\n",
       "      <td>2</td>\n",
       "      <td>1</td>\n",
       "      <td>2</td>\n",
       "      <td>2</td>\n",
       "      <td>2</td>\n",
       "    </tr>\n",
       "    <tr>\n",
       "      <th>263004</th>\n",
       "      <td>1</td>\n",
       "      <td>2</td>\n",
       "      <td>2</td>\n",
       "      <td>2</td>\n",
       "      <td>65</td>\n",
       "      <td>1</td>\n",
       "      <td>2</td>\n",
       "      <td>2</td>\n",
       "      <td>2</td>\n",
       "      <td>2</td>\n",
       "      <td>1</td>\n",
       "      <td>2</td>\n",
       "      <td>2</td>\n",
       "      <td>2</td>\n",
       "      <td>1</td>\n",
       "      <td>2</td>\n",
       "      <td>2</td>\n",
       "    </tr>\n",
       "    <tr>\n",
       "      <th>263005</th>\n",
       "      <td>2</td>\n",
       "      <td>2</td>\n",
       "      <td>2</td>\n",
       "      <td>1</td>\n",
       "      <td>71</td>\n",
       "      <td>2</td>\n",
       "      <td>2</td>\n",
       "      <td>2</td>\n",
       "      <td>97</td>\n",
       "      <td>2</td>\n",
       "      <td>1</td>\n",
       "      <td>2</td>\n",
       "      <td>2</td>\n",
       "      <td>2</td>\n",
       "      <td>2</td>\n",
       "      <td>2</td>\n",
       "      <td>2</td>\n",
       "    </tr>\n",
       "    <tr>\n",
       "      <th>263006</th>\n",
       "      <td>1</td>\n",
       "      <td>1</td>\n",
       "      <td>97</td>\n",
       "      <td>2</td>\n",
       "      <td>18</td>\n",
       "      <td>2</td>\n",
       "      <td>2</td>\n",
       "      <td>2</td>\n",
       "      <td>2</td>\n",
       "      <td>2</td>\n",
       "      <td>2</td>\n",
       "      <td>2</td>\n",
       "      <td>2</td>\n",
       "      <td>2</td>\n",
       "      <td>2</td>\n",
       "      <td>2</td>\n",
       "      <td>97</td>\n",
       "    </tr>\n",
       "  </tbody>\n",
       "</table>\n",
       "<p>263007 rows × 17 columns</p>\n",
       "</div>"
      ],
      "text/plain": [
       "        Sex  Patient type  Intubation  Pneumonia  Age  Diabetes  Copd  Asthma  \\\n",
       "0         2             1          97          2   74         1     2       2   \n",
       "1         1             2           2          2   71         1     1       2   \n",
       "2         2             2           2          1   50         2     2       2   \n",
       "3         1             1          97          2   25         2     2       2   \n",
       "4         1             1          97          2   28         2     2       2   \n",
       "...     ...           ...         ...        ...  ...       ...   ...     ...   \n",
       "263002    2             1          97          2   39         2     2       2   \n",
       "263003    1             2           2          1   53         1     1       2   \n",
       "263004    1             2           2          2   65         1     2       2   \n",
       "263005    2             2           2          1   71         2     2       2   \n",
       "263006    1             1          97          2   18         2     2       2   \n",
       "\n",
       "        Pregnancy  immunosuppressed  Hypertension  Other diseases  \\\n",
       "0              97                 2             1               2   \n",
       "1               2                 2             1               2   \n",
       "2              97                 2             2               2   \n",
       "3               2                 2             2               2   \n",
       "4               2                 2             2               2   \n",
       "...           ...               ...           ...             ...   \n",
       "263002         97                 2             2               2   \n",
       "263003          2                 2             2               2   \n",
       "263004          2                 2             1               2   \n",
       "263005         97                 2             1               2   \n",
       "263006          2                 2             2               2   \n",
       "\n",
       "        Cardiovascular  Obesity  Chronic kidney  Smoking addiction  ICU  \n",
       "0                    2        1               2                  2   97  \n",
       "1                    2        1               2                  1    2  \n",
       "2                    2        2               2                  2    2  \n",
       "3                    2        1               2                  2   97  \n",
       "4                    2        2               2                  2   97  \n",
       "...                ...      ...             ...                ...  ...  \n",
       "263002               2        2               2                  2   97  \n",
       "263003               2        1               2                  2    2  \n",
       "263004               2        2               1                  2    2  \n",
       "263005               2        2               2                  2    2  \n",
       "263006               2        2               2                  2   97  \n",
       "\n",
       "[263007 rows x 17 columns]"
      ]
     },
     "execution_count": 20,
     "metadata": {},
     "output_type": "execute_result"
    }
   ],
   "source": [
    "# Independent variables from the dataset\n",
    "X"
   ]
  },
  {
   "cell_type": "code",
   "execution_count": 21,
   "metadata": {
    "scrolled": false
   },
   "outputs": [
    {
     "name": "stdout",
     "output_type": "stream",
     "text": [
      "Train set: (210405, 17) (210405,)\n",
      "Test set: (52602, 17) (52602,)\n"
     ]
    }
   ],
   "source": [
    "#splitting the dataset into training and testing sets\n",
    "X_train, X_test, y_train, y_test = train_test_split( X, y, test_size=0.2, random_state=4)\n",
    "print ('Train set:', X_train.shape,  y_train.shape)\n",
    "print ('Test set:', X_test.shape,  y_test.shape)"
   ]
  },
  {
   "cell_type": "code",
   "execution_count": 22,
   "metadata": {
    "scrolled": true
   },
   "outputs": [
    {
     "data": {
      "text/plain": [
       "array([2, 1, 2, ..., 2, 2, 1], dtype=int64)"
      ]
     },
     "execution_count": 22,
     "metadata": {},
     "output_type": "execute_result"
    }
   ],
   "source": [
    "y_test"
   ]
  },
  {
   "cell_type": "markdown",
   "metadata": {},
   "source": [
    "# 3. Modelling"
   ]
  },
  {
   "cell_type": "markdown",
   "metadata": {},
   "source": [
    "## Modelling using Imbalanced dataset"
   ]
  },
  {
   "cell_type": "code",
   "execution_count": 23,
   "metadata": {},
   "outputs": [],
   "source": [
    "#importing classifiers from libraries \n",
    "from sklearn.tree import DecisionTreeClassifier\n",
    "from sklearn.linear_model import LogisticRegression\n",
    "from sklearn.ensemble import RandomForestClassifier\n",
    "from sklearn.metrics import confusion_matrix\n",
    "from sklearn.metrics import plot_confusion_matrix\n",
    "from sklearn.metrics import classification_report"
   ]
  },
  {
   "cell_type": "code",
   "execution_count": 24,
   "metadata": {
    "scrolled": true
   },
   "outputs": [
    {
     "name": "stdout",
     "output_type": "stream",
     "text": [
      "              precision    recall  f1-score   support\n",
      "\n",
      "           1       0.62      0.32      0.42     20406\n",
      "           2       0.67      0.88      0.76     32196\n",
      "\n",
      "    accuracy                           0.66     52602\n",
      "   macro avg       0.65      0.60      0.59     52602\n",
      "weighted avg       0.65      0.66      0.63     52602\n",
      "\n"
     ]
    }
   ],
   "source": [
    "#Using decision tree classifier\n",
    "DT_model = DecisionTreeClassifier(criterion=\"entropy\", max_depth = 4).fit(X_train,y_train)\n",
    "DT_model\n",
    "\n",
    "# Model evaluation of decision tree\n",
    "y_pred = DT_model.predict(X_test)\n",
    "print(classification_report(y_test, y_pred))"
   ]
  },
  {
   "cell_type": "code",
   "execution_count": 25,
   "metadata": {},
   "outputs": [
    {
     "data": {
      "text/plain": [
       "array([[ 6545, 13861],\n",
       "       [ 3985, 28211]], dtype=int64)"
      ]
     },
     "execution_count": 25,
     "metadata": {},
     "output_type": "execute_result"
    }
   ],
   "source": [
    "#confusion matrix\n",
    "confusion_matrix(y_test, y_pred)"
   ]
  },
  {
   "cell_type": "code",
   "execution_count": 26,
   "metadata": {
    "scrolled": true
   },
   "outputs": [
    {
     "name": "stdout",
     "output_type": "stream",
     "text": [
      "              precision    recall  f1-score   support\n",
      "\n",
      "           1       0.62      0.31      0.41     20406\n",
      "           2       0.67      0.88      0.76     32196\n",
      "\n",
      "    accuracy                           0.66     52602\n",
      "   macro avg       0.64      0.59      0.58     52602\n",
      "weighted avg       0.65      0.66      0.62     52602\n",
      "\n"
     ]
    }
   ],
   "source": [
    "#Using logistic regression\n",
    "LR_model = LogisticRegression(max_iter=1000).fit(X_train,y_train)\n",
    "LR_model\n",
    "\n",
    "# Model Evaluation of Logistic Regression\n",
    "y_pred = LR_model.predict(X_test)\n",
    "print(classification_report(y_test, y_pred))"
   ]
  },
  {
   "cell_type": "code",
   "execution_count": 27,
   "metadata": {
    "scrolled": false
   },
   "outputs": [
    {
     "data": {
      "text/plain": [
       "array([[ 6275, 14131],\n",
       "       [ 3924, 28272]], dtype=int64)"
      ]
     },
     "execution_count": 27,
     "metadata": {},
     "output_type": "execute_result"
    }
   ],
   "source": [
    "#confusion matrix\n",
    "confusion_matrix(y_test, y_pred)"
   ]
  },
  {
   "cell_type": "code",
   "execution_count": 28,
   "metadata": {
    "scrolled": false
   },
   "outputs": [
    {
     "name": "stdout",
     "output_type": "stream",
     "text": [
      "              precision    recall  f1-score   support\n",
      "\n",
      "           1       0.60      0.32      0.42     20406\n",
      "           2       0.67      0.86      0.75     32196\n",
      "\n",
      "    accuracy                           0.65     52602\n",
      "   macro avg       0.63      0.59      0.59     52602\n",
      "weighted avg       0.64      0.65      0.62     52602\n",
      "\n"
     ]
    }
   ],
   "source": [
    "# Using Random forest Classifier\n",
    "rfc_model = RandomForestClassifier().fit(X_train,y_train)\n",
    "rfc_model\n",
    "\n",
    "# Model Evaluation of Random Forest Classifier\n",
    "y_pred = rfc_model.predict(X_test)\n",
    "print(classification_report(y_test, y_pred))"
   ]
  },
  {
   "cell_type": "code",
   "execution_count": 29,
   "metadata": {},
   "outputs": [
    {
     "data": {
      "text/plain": [
       "array([[ 6583, 13823],\n",
       "       [ 4423, 27773]], dtype=int64)"
      ]
     },
     "execution_count": 29,
     "metadata": {},
     "output_type": "execute_result"
    }
   ],
   "source": [
    "#confusion matrix\n",
    "confusion_matrix(y_test, y_pred)"
   ]
  },
  {
   "cell_type": "markdown",
   "metadata": {},
   "source": [
    "# Data balancing using oversampling approach "
   ]
  },
  {
   "cell_type": "code",
   "execution_count": 30,
   "metadata": {},
   "outputs": [],
   "source": [
    "#importing Imbalanced-learn samplers from libraries \n",
    "from imblearn.over_sampling import RandomOverSampler \n",
    "ros = RandomOverSampler(random_state=42)\n",
    "X_train_Over, y_train_Over = ros.fit_resample(X_train, y_train)"
   ]
  },
  {
   "cell_type": "code",
   "execution_count": 31,
   "metadata": {
    "scrolled": false
   },
   "outputs": [
    {
     "name": "stdout",
     "output_type": "stream",
     "text": [
      "              precision    recall  f1-score   support\n",
      "\n",
      "           1       0.61      0.35      0.45     20406\n",
      "           2       0.68      0.85      0.75     32196\n",
      "\n",
      "    accuracy                           0.66     52602\n",
      "   macro avg       0.64      0.60      0.60     52602\n",
      "weighted avg       0.65      0.66      0.63     52602\n",
      "\n"
     ]
    }
   ],
   "source": [
    "#Using Decision Tree\n",
    "DT_model = DecisionTreeClassifier(criterion=\"entropy\", max_depth = 4).fit(X_train_Over, y_train_Over)\n",
    "DT_model\n",
    "\n",
    "# Model Evaluation of Decision Tree\n",
    "y_pred = DT_model.predict(X_test)\n",
    "print(classification_report(y_test, y_pred))"
   ]
  },
  {
   "cell_type": "code",
   "execution_count": 32,
   "metadata": {},
   "outputs": [
    {
     "data": {
      "text/plain": [
       "array([[ 7204, 13202],\n",
       "       [ 4694, 27502]], dtype=int64)"
      ]
     },
     "execution_count": 32,
     "metadata": {},
     "output_type": "execute_result"
    }
   ],
   "source": [
    "#confusion matrix\n",
    "confusion_matrix(y_test, y_pred)"
   ]
  },
  {
   "cell_type": "code",
   "execution_count": 33,
   "metadata": {
    "scrolled": true
   },
   "outputs": [
    {
     "name": "stdout",
     "output_type": "stream",
     "text": [
      "              precision    recall  f1-score   support\n",
      "\n",
      "           1       0.53      0.48      0.51     20406\n",
      "           2       0.69      0.73      0.71     32196\n",
      "\n",
      "    accuracy                           0.63     52602\n",
      "   macro avg       0.61      0.61      0.61     52602\n",
      "weighted avg       0.63      0.63      0.63     52602\n",
      "\n"
     ]
    }
   ],
   "source": [
    "# Using logistic regression\n",
    "LR_model = LogisticRegression(max_iter=1000).fit(X_train_Over, y_train_Over)\n",
    "LR_model\n",
    "\n",
    "# Model Evaluation of Logistic Regression\n",
    "y_pred = LR_model.predict(X_test)\n",
    "print(classification_report(y_test, y_pred))"
   ]
  },
  {
   "cell_type": "code",
   "execution_count": 34,
   "metadata": {},
   "outputs": [
    {
     "data": {
      "text/plain": [
       "array([[ 9882, 10524],\n",
       "       [ 8817, 23379]], dtype=int64)"
      ]
     },
     "execution_count": 34,
     "metadata": {},
     "output_type": "execute_result"
    }
   ],
   "source": [
    "#confusion matrix\n",
    "confusion_matrix(y_test, y_pred)"
   ]
  },
  {
   "cell_type": "code",
   "execution_count": 35,
   "metadata": {
    "scrolled": true
   },
   "outputs": [
    {
     "name": "stdout",
     "output_type": "stream",
     "text": [
      "              precision    recall  f1-score   support\n",
      "\n",
      "           1       0.54      0.45      0.49     20406\n",
      "           2       0.68      0.76      0.72     32196\n",
      "\n",
      "    accuracy                           0.64     52602\n",
      "   macro avg       0.61      0.60      0.60     52602\n",
      "weighted avg       0.63      0.64      0.63     52602\n",
      "\n"
     ]
    }
   ],
   "source": [
    "# Using Random forest Classifier\n",
    "rfc_model = RandomForestClassifier().fit(X_train_Over, y_train_Over)\n",
    "rfc_model\n",
    "\n",
    "# Model Evaluation of Random Forest Classifier\n",
    "y_pred = rfc_model.predict(X_test)\n",
    "print(classification_report(y_test, y_pred))"
   ]
  },
  {
   "cell_type": "code",
   "execution_count": 36,
   "metadata": {},
   "outputs": [
    {
     "data": {
      "text/plain": [
       "array([[ 9117, 11289],\n",
       "       [ 7805, 24391]], dtype=int64)"
      ]
     },
     "execution_count": 36,
     "metadata": {},
     "output_type": "execute_result"
    }
   ],
   "source": [
    "#confusion matrix\n",
    "confusion_matrix(y_test, y_pred)"
   ]
  },
  {
   "cell_type": "markdown",
   "metadata": {},
   "source": [
    "# Data balancing using undersampling approach "
   ]
  },
  {
   "cell_type": "code",
   "execution_count": 37,
   "metadata": {},
   "outputs": [],
   "source": [
    "#importing imbalanced-learn samplers from libraries\n",
    "from imblearn.under_sampling import RandomUnderSampler\n",
    "rus = RandomUnderSampler(random_state=21)\n",
    "X_train_Under, y_train_Under= rus.fit_sample(X_train, y_train)"
   ]
  },
  {
   "cell_type": "code",
   "execution_count": 38,
   "metadata": {},
   "outputs": [
    {
     "name": "stdout",
     "output_type": "stream",
     "text": [
      "              precision    recall  f1-score   support\n",
      "\n",
      "           1       0.60      0.36      0.45     20406\n",
      "           2       0.68      0.85      0.75     32196\n",
      "\n",
      "    accuracy                           0.66     52602\n",
      "   macro avg       0.64      0.60      0.60     52602\n",
      "weighted avg       0.65      0.66      0.63     52602\n",
      "\n"
     ]
    }
   ],
   "source": [
    "#Using Decision Tree\n",
    "DT_model = DecisionTreeClassifier(criterion=\"entropy\", max_depth = 4).fit(X_train_Under, y_train_Under)\n",
    "DT_model\n",
    "\n",
    "# Model Evaluation of Decision Tree\n",
    "y_pred = DT_model.predict(X_test)\n",
    "print(classification_report(y_test, y_pred))"
   ]
  },
  {
   "cell_type": "code",
   "execution_count": 39,
   "metadata": {},
   "outputs": [
    {
     "data": {
      "text/plain": [
       "array([[ 7336, 13070],\n",
       "       [ 4945, 27251]], dtype=int64)"
      ]
     },
     "execution_count": 39,
     "metadata": {},
     "output_type": "execute_result"
    }
   ],
   "source": [
    "#confusion matrix\n",
    "confusion_matrix(y_test, y_pred)"
   ]
  },
  {
   "cell_type": "code",
   "execution_count": 40,
   "metadata": {
    "scrolled": false
   },
   "outputs": [
    {
     "name": "stdout",
     "output_type": "stream",
     "text": [
      "              precision    recall  f1-score   support\n",
      "\n",
      "           1       0.53      0.48      0.50     20406\n",
      "           2       0.69      0.73      0.71     32196\n",
      "\n",
      "    accuracy                           0.63     52602\n",
      "   macro avg       0.61      0.60      0.61     52602\n",
      "weighted avg       0.63      0.63      0.63     52602\n",
      "\n"
     ]
    }
   ],
   "source": [
    "# Using logistic regression\n",
    "LR_model = LogisticRegression(max_iter=1000).fit(X_train_Under, y_train_Under)\n",
    "LR_model\n",
    "\n",
    "# Model Evaluation of Logistic Regression\n",
    "y_pred = LR_model.predict(X_test)\n",
    "print(classification_report(y_test, y_pred))"
   ]
  },
  {
   "cell_type": "code",
   "execution_count": 41,
   "metadata": {},
   "outputs": [
    {
     "data": {
      "text/plain": [
       "array([[ 9851, 10555],\n",
       "       [ 8785, 23411]], dtype=int64)"
      ]
     },
     "execution_count": 41,
     "metadata": {},
     "output_type": "execute_result"
    }
   ],
   "source": [
    "#confusion matrix\n",
    "confusion_matrix(y_test, y_pred)"
   ]
  },
  {
   "cell_type": "code",
   "execution_count": 42,
   "metadata": {
    "scrolled": false
   },
   "outputs": [
    {
     "name": "stdout",
     "output_type": "stream",
     "text": [
      "              precision    recall  f1-score   support\n",
      "\n",
      "           1       0.53      0.47      0.50     20406\n",
      "           2       0.69      0.74      0.71     32196\n",
      "\n",
      "    accuracy                           0.63     52602\n",
      "   macro avg       0.61      0.60      0.61     52602\n",
      "weighted avg       0.63      0.63      0.63     52602\n",
      "\n"
     ]
    }
   ],
   "source": [
    "# Using Randon forest Classifier\n",
    "rfc_model = RandomForestClassifier().fit(X_train_Under, y_train_Under)\n",
    "rfc_model\n",
    "\n",
    "# Model Evaluation of Random Forest Classifier\n",
    "y_pred = rfc_model.predict(X_test)\n",
    "print(classification_report(y_test, y_pred))"
   ]
  },
  {
   "cell_type": "code",
   "execution_count": 43,
   "metadata": {
    "scrolled": true
   },
   "outputs": [
    {
     "data": {
      "text/plain": [
       "array([[ 9595, 10811],\n",
       "       [ 8435, 23761]], dtype=int64)"
      ]
     },
     "execution_count": 43,
     "metadata": {},
     "output_type": "execute_result"
    }
   ],
   "source": [
    "#confusion matrix\n",
    "confusion_matrix(y_test, y_pred)"
   ]
  }
 ],
 "metadata": {
  "kernelspec": {
   "display_name": "Python 3",
   "language": "python",
   "name": "python3"
  },
  "language_info": {
   "codemirror_mode": {
    "name": "ipython",
    "version": 3
   },
   "file_extension": ".py",
   "mimetype": "text/x-python",
   "name": "python",
   "nbconvert_exporter": "python",
   "pygments_lexer": "ipython3",
   "version": "3.7.7"
  }
 },
 "nbformat": 4,
 "nbformat_minor": 4
}
